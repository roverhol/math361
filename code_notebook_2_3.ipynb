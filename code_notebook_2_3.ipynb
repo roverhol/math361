{
  "nbformat": 4,
  "nbformat_minor": 0,
  "metadata": {
    "kernelspec": {
      "display_name": "R",
      "language": "R",
      "name": "ir"
    },
    "language_info": {
      "codemirror_mode": "r",
      "file_extension": ".r",
      "mimetype": "text/x-r-source",
      "name": "R",
      "pygments_lexer": "r",
      "version": "3.5.1"
    },
    "colab": {
      "name": "code_notebook_2_3.ipynb",
      "provenance": [],
      "collapsed_sections": []
    }
  },
  "cells": [
    {
      "cell_type": "markdown",
      "metadata": {
        "id": "9KnSee2HHZLp"
      },
      "source": [
        "# Class Activity 2.3: Subsetting in R\n",
        "\n",
        "If you're using Colab, please remeber to upload the dataset from Class Activity 2.3 using the file manager on the left sibebar of Colab."
      ]
    },
    {
      "cell_type": "markdown",
      "metadata": {
        "id": "t28JUWkm0PvT"
      },
      "source": [
        "## Step 1: load the dataset into R using \"read.csv\""
      ]
    },
    {
      "cell_type": "code",
      "metadata": {
        "id": "i3rQVzG10QiJ"
      },
      "source": [
        "students <- read.csv(\"students361_clean.csv\")"
      ],
      "execution_count": 1,
      "outputs": []
    },
    {
      "cell_type": "markdown",
      "metadata": {
        "id": "SKX3ogh-44kb"
      },
      "source": [
        "## Step 2: Check that the dataset loaded correctly: there should be information on 8 variables from 35 students.  Use the \"str\" function."
      ]
    },
    {
      "cell_type": "code",
      "metadata": {
        "colab": {
          "base_uri": "https://localhost:8080/"
        },
        "id": "3hNzRs845Fcz",
        "outputId": "c70cb937-bd5d-48fa-cb4d-a5f502907c1b"
      },
      "source": [
        "str(students)"
      ],
      "execution_count": 2,
      "outputs": [
        {
          "output_type": "stream",
          "text": [
            "'data.frame':\t35 obs. of  8 variables:\n",
            " $ height        : num  63 63 73 78 61 64 70 70 70 74 ...\n",
            " $ favoriteNumber: num  248 2 3 50 8 13 12 7 31 11 ...\n",
            " $ CraterLake    : num  6 9 9 5 4 3 5 8 7 7 ...\n",
            " $ commute       : chr  \"Car\" \"Car\" \"Car\" \"walk\" ...\n",
            " $ shoes         : int  NA 20 10 12 32 7 3 5 3 12 ...\n",
            " $ drink         : int  2 1 1 2 2 2 2 1 1 2 ...\n",
            " $ chocolate     : chr  \"Yes\" \"Yes\" \"No\" \"Yes\" ...\n",
            " $ color         : chr  \"gold\" \"blue\" \"blue\" \"green\" ...\n"
          ],
          "name": "stdout"
        }
      ]
    },
    {
      "cell_type": "code",
      "metadata": {
        "id": "pY-YVzaM5HPt"
      },
      "source": [
        ""
      ],
      "execution_count": null,
      "outputs": []
    },
    {
      "cell_type": "markdown",
      "metadata": {
        "id": "19JwtQJY5Qbx"
      },
      "source": [
        "## Step 3: Make any needed corrections.  \r\n",
        "\r\n",
        "In this dataset, height, favoriateNumber, CraterLake, and shoes should all be numerical variables and as you can see from the output of \"str\", R has each of these as either int (i.e. integer) or num (number) so no corrections are needed on these.  \r\n",
        "\r\n",
        "The remaining variables should all be categorical. From the output of \"str\", we can see that commute, chocolate and color are all \"chr\" which is valid for categorical variables, but  the variable drink is \"int\".  So we should change drink to a factor with informative labels:"
      ]
    },
    {
      "cell_type": "code",
      "metadata": {
        "id": "R0H_ACCI6SgX"
      },
      "source": [
        "students$drink <- as.factor(students$drink)"
      ],
      "execution_count": 3,
      "outputs": []
    },
    {
      "cell_type": "code",
      "metadata": {
        "colab": {
          "base_uri": "https://localhost:8080/",
          "height": 34
        },
        "id": "lfKorbuB6tsQ",
        "outputId": "c0e6bfa7-6da8-42a2-a8c7-234c357bab3c"
      },
      "source": [
        "levels(students$drink)"
      ],
      "execution_count": 4,
      "outputs": [
        {
          "output_type": "display_data",
          "data": {
            "text/plain": [
              "[1] \"1\" \"2\""
            ],
            "text/latex": "\\begin{enumerate*}\n\\item '1'\n\\item '2'\n\\end{enumerate*}\n",
            "text/markdown": "1. '1'\n2. '2'\n\n\n",
            "text/html": [
              "<style>\n",
              ".list-inline {list-style: none; margin:0; padding: 0}\n",
              ".list-inline>li {display: inline-block}\n",
              ".list-inline>li:not(:last-child)::after {content: \"\\00b7\"; padding: 0 .5ex}\n",
              "</style>\n",
              "<ol class=list-inline><li>'1'</li><li>'2'</li></ol>\n"
            ]
          },
          "metadata": {
            "tags": []
          }
        }
      ]
    },
    {
      "cell_type": "code",
      "metadata": {
        "id": "KxXc9kSn6vxa"
      },
      "source": [
        "levels(students$drink) <- c(\"coke\", \"pepsi\")"
      ],
      "execution_count": 5,
      "outputs": []
    },
    {
      "cell_type": "code",
      "metadata": {
        "colab": {
          "base_uri": "https://localhost:8080/",
          "height": 34
        },
        "id": "cQJoGpv661ja",
        "outputId": "37bd742e-aae9-486c-d4b3-74326055eac3"
      },
      "source": [
        "levels(students$drink)"
      ],
      "execution_count": 6,
      "outputs": [
        {
          "output_type": "display_data",
          "data": {
            "text/plain": [
              "[1] \"coke\"  \"pepsi\""
            ],
            "text/latex": "\\begin{enumerate*}\n\\item 'coke'\n\\item 'pepsi'\n\\end{enumerate*}\n",
            "text/markdown": "1. 'coke'\n2. 'pepsi'\n\n\n",
            "text/html": [
              "<style>\n",
              ".list-inline {list-style: none; margin:0; padding: 0}\n",
              ".list-inline>li {display: inline-block}\n",
              ".list-inline>li:not(:last-child)::after {content: \"\\00b7\"; padding: 0 .5ex}\n",
              "</style>\n",
              "<ol class=list-inline><li>'coke'</li><li>'pepsi'</li></ol>\n"
            ]
          },
          "metadata": {
            "tags": []
          }
        }
      ]
    },
    {
      "cell_type": "markdown",
      "metadata": {
        "id": "2q8S7Rag647D"
      },
      "source": [
        "## Step 4: Create the required subsets and count the number of students in each one.  Record your answers on the class activity 2.3 page in OneNote.  \r\n",
        "\r\n",
        "Example using the \"subset\" function and operators is given below.  The students in this subset can be counting using the \"str\" function. "
      ]
    },
    {
      "cell_type": "code",
      "metadata": {
        "id": "kxdv3JtO63SR"
      },
      "source": [
        "mysubset <- subset(students, subset=(drink==\"coke\"))"
      ],
      "execution_count": 9,
      "outputs": []
    },
    {
      "cell_type": "code",
      "metadata": {
        "colab": {
          "base_uri": "https://localhost:8080/"
        },
        "id": "BoAx47pa8j7Z",
        "outputId": "714478e2-6b2f-4334-bb62-f20a6c7a7666"
      },
      "source": [
        "str(mysubset)"
      ],
      "execution_count": 10,
      "outputs": [
        {
          "output_type": "stream",
          "text": [
            "'data.frame':\t16 obs. of  8 variables:\n",
            " $ height        : num  63 73 70 70 70 67 71 68 72 69 ...\n",
            " $ favoriteNumber: num  2 3 7 31 2.72 ...\n",
            " $ CraterLake    : num  9 9 8 7 8 4.5 9 5 9 6 ...\n",
            " $ commute       : chr  \"Car\" \"Car\" \"walk\" \"Car\" ...\n",
            " $ shoes         : int  20 10 5 3 6 5 23 7 6 9 ...\n",
            " $ drink         : Factor w/ 2 levels \"coke\",\"pepsi\": 1 1 1 1 1 1 1 1 1 1 ...\n",
            " $ chocolate     : chr  \"Yes\" \"No\" \"No\" \"No\" ...\n",
            " $ color         : chr  \"blue\" \"blue\" \"darkblue\" \"green\" ...\n"
          ],
          "name": "stdout"
        }
      ]
    },
    {
      "cell_type": "markdown",
      "metadata": {
        "id": "suIADt3E83kp"
      },
      "source": [
        "There are 16 students who prefer coke to pepsi."
      ]
    },
    {
      "cell_type": "markdown",
      "metadata": {
        "id": "DvjbNW6j9YfR"
      },
      "source": [
        "The | operator means \"OR\" in R: "
      ]
    },
    {
      "cell_type": "code",
      "metadata": {
        "id": "aVVf78818j5N"
      },
      "source": [
        "mysubset2 <- subset(students, subset=(drink==\"coke\" | height >=60))"
      ],
      "execution_count": 11,
      "outputs": []
    },
    {
      "cell_type": "code",
      "metadata": {
        "colab": {
          "base_uri": "https://localhost:8080/"
        },
        "id": "Tg9leDLh8j3M",
        "outputId": "6175ee13-8617-4a08-8df3-457e42e66f0f"
      },
      "source": [
        "str(mysubset2)"
      ],
      "execution_count": 12,
      "outputs": [
        {
          "output_type": "stream",
          "text": [
            "'data.frame':\t34 obs. of  8 variables:\n",
            " $ height        : num  63 63 73 78 61 64 70 70 70 74 ...\n",
            " $ favoriteNumber: num  248 2 3 50 8 13 12 7 31 11 ...\n",
            " $ CraterLake    : num  6 9 9 5 4 3 5 8 7 7 ...\n",
            " $ commute       : chr  \"Car\" \"Car\" \"Car\" \"walk\" ...\n",
            " $ shoes         : int  NA 20 10 12 32 7 3 5 3 12 ...\n",
            " $ drink         : Factor w/ 2 levels \"coke\",\"pepsi\": 2 1 1 2 2 2 2 1 1 2 ...\n",
            " $ chocolate     : chr  \"Yes\" \"Yes\" \"No\" \"Yes\" ...\n",
            " $ color         : chr  \"gold\" \"blue\" \"blue\" \"green\" ...\n"
          ],
          "name": "stdout"
        }
      ]
    },
    {
      "cell_type": "markdown",
      "metadata": {
        "id": "6bOr4VJY9UIe"
      },
      "source": [
        "There were 34 students who either prefer coke OR are at least 60 inches tall."
      ]
    },
    {
      "cell_type": "markdown",
      "metadata": {
        "id": "ilEOCOX996NE"
      },
      "source": [
        "The & operator means \"AND\" in R:"
      ]
    },
    {
      "cell_type": "code",
      "metadata": {
        "id": "6aeKvZoe8jvS"
      },
      "source": [
        "mysubset3 <- subset(students, subset=(drink==\"coke\" & height >=60))"
      ],
      "execution_count": 13,
      "outputs": []
    },
    {
      "cell_type": "code",
      "metadata": {
        "colab": {
          "base_uri": "https://localhost:8080/"
        },
        "id": "F2treYn-8jrD",
        "outputId": "fe6df34a-6903-4896-978a-2b529d54f8e6"
      },
      "source": [
        "str(mysubset3)"
      ],
      "execution_count": 15,
      "outputs": [
        {
          "output_type": "stream",
          "text": [
            "'data.frame':\t16 obs. of  8 variables:\n",
            " $ height        : num  63 73 70 70 70 67 71 68 72 69 ...\n",
            " $ favoriteNumber: num  2 3 7 31 2.72 ...\n",
            " $ CraterLake    : num  9 9 8 7 8 4.5 9 5 9 6 ...\n",
            " $ commute       : chr  \"Car\" \"Car\" \"walk\" \"Car\" ...\n",
            " $ shoes         : int  20 10 5 3 6 5 23 7 6 9 ...\n",
            " $ drink         : Factor w/ 2 levels \"coke\",\"pepsi\": 1 1 1 1 1 1 1 1 1 1 ...\n",
            " $ chocolate     : chr  \"Yes\" \"No\" \"No\" \"No\" ...\n",
            " $ color         : chr  \"blue\" \"blue\" \"darkblue\" \"green\" ...\n"
          ],
          "name": "stdout"
        }
      ]
    },
    {
      "cell_type": "markdown",
      "metadata": {
        "id": "YSsXr55I9sef"
      },
      "source": [
        "There were 16 students who prefer coke AND are at least 60 inches tall."
      ]
    },
    {
      "cell_type": "code",
      "metadata": {
        "id": "DJJ4zjIs8jpB"
      },
      "source": [
        ""
      ],
      "execution_count": null,
      "outputs": []
    },
    {
      "cell_type": "code",
      "metadata": {
        "id": "jJY1UFI_8jiF"
      },
      "source": [
        ""
      ],
      "execution_count": null,
      "outputs": []
    },
    {
      "cell_type": "code",
      "metadata": {
        "id": "yiitfr9p8je9"
      },
      "source": [
        ""
      ],
      "execution_count": null,
      "outputs": []
    },
    {
      "cell_type": "code",
      "metadata": {
        "id": "g-G6cPH78jck"
      },
      "source": [
        ""
      ],
      "execution_count": null,
      "outputs": []
    },
    {
      "cell_type": "code",
      "metadata": {
        "id": "14OEBq1w8jWs"
      },
      "source": [
        ""
      ],
      "execution_count": null,
      "outputs": []
    },
    {
      "cell_type": "code",
      "metadata": {
        "id": "pNwMUoK98jTt"
      },
      "source": [
        ""
      ],
      "execution_count": null,
      "outputs": []
    },
    {
      "cell_type": "code",
      "metadata": {
        "id": "5r2Haop18jRJ"
      },
      "source": [
        ""
      ],
      "execution_count": null,
      "outputs": []
    },
    {
      "cell_type": "code",
      "metadata": {
        "id": "L217Rehh8jJY"
      },
      "source": [
        ""
      ],
      "execution_count": null,
      "outputs": []
    },
    {
      "cell_type": "code",
      "metadata": {
        "id": "oIqtz8os8jHC"
      },
      "source": [
        ""
      ],
      "execution_count": null,
      "outputs": []
    },
    {
      "cell_type": "code",
      "metadata": {
        "id": "GO8UvcBL8jBE"
      },
      "source": [
        ""
      ],
      "execution_count": null,
      "outputs": []
    },
    {
      "cell_type": "code",
      "metadata": {
        "id": "oIJoBUHY8i7s"
      },
      "source": [
        ""
      ],
      "execution_count": null,
      "outputs": []
    },
    {
      "cell_type": "code",
      "metadata": {
        "id": "coTxzELv8i3Y"
      },
      "source": [
        ""
      ],
      "execution_count": null,
      "outputs": []
    },
    {
      "cell_type": "code",
      "metadata": {
        "id": "dz5zA5QC8ixw"
      },
      "source": [
        ""
      ],
      "execution_count": null,
      "outputs": []
    },
    {
      "cell_type": "code",
      "metadata": {
        "id": "Q5YUvRHO8ig3"
      },
      "source": [
        ""
      ],
      "execution_count": null,
      "outputs": []
    }
  ]
}