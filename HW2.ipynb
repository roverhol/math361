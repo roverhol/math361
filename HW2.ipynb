{
  "nbformat": 4,
  "nbformat_minor": 0,
  "metadata": {
    "kernelspec": {
      "display_name": "R",
      "language": "R",
      "name": "ir"
    },
    "language_info": {
      "codemirror_mode": "r",
      "file_extension": ".r",
      "mimetype": "text/x-r-source",
      "name": "R",
      "pygments_lexer": "r",
      "version": "3.5.1"
    },
    "colab": {
      "name": "HW2.ipynb",
      "provenance": [],
      "collapsed_sections": [],
      "toc_visible": true
    }
  },
  "cells": [
    {
      "cell_type": "markdown",
      "metadata": {
        "id": "UZIXhehBQMTj"
      },
      "source": [
        "## HW 2: Vietnam Draft and Political Attitudes\n",
        "\n",
        "This code notebook provides hints and starter code for answering questions of HW 2.\n",
        "\n",
        "If you are working in Colab, you'll need to upload the survey.csv dataset using the file manager on the left sidebar.\n"
      ]
    },
    {
      "cell_type": "markdown",
      "metadata": {
        "id": "R-VbLdhDc1oA"
      },
      "source": [
        "Step 1: Read the dataset ''survey.csv'' into R using the ''read.csv'' function.  \r\n"
      ]
    },
    {
      "cell_type": "code",
      "metadata": {
        "id": "yTc0eVWQQYDM"
      },
      "source": [
        "survey <- read.csv(\"survey.csv\")"
      ],
      "execution_count": 1,
      "outputs": []
    },
    {
      "cell_type": "markdown",
      "metadata": {
        "id": "2lhoke6odU_v"
      },
      "source": [
        "Step 2: Check that the dataset was correctly loaded in R using the ''str'' and ''head'' functions. Specifically, make sure the number of variables matches the number in the description of HW 2. "
      ]
    },
    {
      "cell_type": "code",
      "metadata": {
        "id": "EdiQlJTDdTXG"
      },
      "source": [
        "str(survey)"
      ],
      "execution_count": null,
      "outputs": []
    },
    {
      "cell_type": "code",
      "metadata": {
        "id": "d81JybnfTluG"
      },
      "source": [
        "head(survey)"
      ],
      "execution_count": null,
      "outputs": []
    },
    {
      "cell_type": "markdown",
      "metadata": {
        "id": "YFMngz1MeSX1"
      },
      "source": [
        "Step 3: Correct any mistakes when the dataset was loaded in R and make informative labels for any categorical variables.\r\n",
        "\r\n",
        "In this example, one variable is NOT correctly loaded in R: the variable ''draft'' has possible values of 0 or 1, so R thinks it is an ''int'', or integer variable.  In fact, the values don't really mean the numbers 0 and 1 but are just place holders for the two groups of men (included in the draft or not).\r\n",
        "\r\n",
        "Refer to Example 2 in code_notebook_2_1.ipynb as needed to change ''draft'' to a ''factor'' in R, with appropriate and informative labels. Some starter code is given below.  To complete it, read the variable descriptions in HW 2. "
      ]
    },
    {
      "cell_type": "markdown",
      "metadata": {
        "id": "FaQF5RH5gnES"
      },
      "source": [
        "Change to a factor..."
      ]
    },
    {
      "cell_type": "code",
      "metadata": {
        "id": "DH90XxO9ev9y"
      },
      "source": [
        "survey$draft <- factor(survey$draft)"
      ],
      "execution_count": 3,
      "outputs": []
    },
    {
      "cell_type": "markdown",
      "metadata": {
        "id": "F5Ze3UH1gq_M"
      },
      "source": [
        "...then check the current values..."
      ]
    },
    {
      "cell_type": "code",
      "metadata": {
        "id": "rDYTJ8aGgdV-"
      },
      "source": [
        "levels(survey$draft)"
      ],
      "execution_count": null,
      "outputs": []
    },
    {
      "cell_type": "markdown",
      "metadata": {
        "id": "kg2FIUvcgz5N"
      },
      "source": [
        "...then replace the current values in the correct order..."
      ]
    },
    {
      "cell_type": "code",
      "metadata": {
        "id": "TIV_8GedgpGJ"
      },
      "source": [
        "levels(survey$draft) <- c(\"  \", \"  \")"
      ],
      "execution_count": null,
      "outputs": []
    },
    {
      "cell_type": "markdown",
      "metadata": {
        "id": "eoQLHNreg_Yc"
      },
      "source": [
        "...finally check that the values are correct..."
      ]
    },
    {
      "cell_type": "code",
      "metadata": {
        "id": "KD3fDJjvgn5c"
      },
      "source": [
        "levels(survey$draft)"
      ],
      "execution_count": null,
      "outputs": []
    },
    {
      "cell_type": "markdown",
      "metadata": {
        "id": "129bLlxBeuJU"
      },
      "source": [
        "Now let's doublecheck our dataset..."
      ]
    },
    {
      "cell_type": "code",
      "metadata": {
        "id": "Pbx0csIHg6yK"
      },
      "source": [
        "str(survey)"
      ],
      "execution_count": null,
      "outputs": []
    },
    {
      "cell_type": "markdown",
      "metadata": {
        "id": "v0-PWpoyhJcw"
      },
      "source": [
        "Step 4: Summarize the outcome variable per group."
      ]
    },
    {
      "cell_type": "markdown",
      "metadata": {
        "id": "3CuTHJ09hdu_"
      },
      "source": [
        "First, let's try the shortest method of summarizing, which is with the ''tapply'' function: first input is the outcome, second input is the treatment and third is the function to compute per treatment group."
      ]
    },
    {
      "cell_type": "code",
      "metadata": {
        "id": "S84UxM36VamT"
      },
      "source": [
        "tapply(survey$ideology, survey$draft, mean)"
      ],
      "execution_count": null,
      "outputs": []
    },
    {
      "cell_type": "markdown",
      "metadata": {
        "id": "t8MtfBXyhtIL"
      },
      "source": [
        "Did you get an error that the means are NA?  This happens a lot with real datasets.  Because some men didn't respond to all the survey questions, there are empty answers in the dataset.  Often \"missing\" values are filled in with \"NA\".  The mean function cannot be computed over these values so we need to tell R to ignore them.\r\n",
        "\r\n",
        "A quick way to do this is to add a fourth input to the tapply function of \"na.rm=TRUE\". "
      ]
    },
    {
      "cell_type": "code",
      "metadata": {
        "id": "XaSPg6H8Tpku"
      },
      "source": [
        "tapply(survey$ideology, survey$draft, mean, na.rm=TRUE)"
      ],
      "execution_count": null,
      "outputs": []
    },
    {
      "cell_type": "markdown",
      "metadata": {
        "id": "iH1MhNwBjP8d"
      },
      "source": [
        "Next refer to Example 2 in code_notebook_2_1.ipynb to see how to use the \"table\" function to summarize two categorical variables when one is a outcome variable and the other is a treatment variable (i.e. treatment groups in columns, outcomes in rows).  Use this example to help complete the code below."
      ]
    },
    {
      "cell_type": "code",
      "metadata": {
        "id": "OLSPdsqjXDj6"
      },
      "source": [
        "tab <- table(survey$      , survey$       )\r\n",
        "tab"
      ],
      "execution_count": null,
      "outputs": []
    },
    {
      "cell_type": "code",
      "metadata": {
        "id": "nf1whk8piXuC"
      },
      "source": [
        "prop.table(tab, margin=    )"
      ],
      "execution_count": null,
      "outputs": []
    },
    {
      "cell_type": "markdown",
      "metadata": {
        "id": "PY2bq29Yis1I"
      },
      "source": [
        "The code below shows how to create a subset of the dataset of men born in 1950.  Please edit this code to create the subset of men living in Oregon (hint: change variable name and use \"OR\")."
      ]
    },
    {
      "cell_type": "code",
      "metadata": {
        "id": "E4ImizQufUzT"
      },
      "source": [
        "men1950 <- subset(survey, subset=(year==1950))"
      ],
      "execution_count": 15,
      "outputs": []
    },
    {
      "cell_type": "code",
      "metadata": {
        "id": "PhAC9QAIfUu4"
      },
      "source": [
        "str(men1950)"
      ],
      "execution_count": null,
      "outputs": []
    },
    {
      "cell_type": "markdown",
      "metadata": {
        "id": "rEMG9LFFfzXc"
      },
      "source": [
        "Once you've made the subset, compute the mean per group as before, making sure to use the name of the new subset instead of the entire dataset"
      ]
    },
    {
      "cell_type": "code",
      "metadata": {
        "id": "Op0aX8LtfUpf"
      },
      "source": [
        "tapply(men1950$ideology, men1950$draft, mean, na.rm=TRUE)"
      ],
      "execution_count": null,
      "outputs": []
    },
    {
      "cell_type": "code",
      "metadata": {
        "id": "NHSpITLnfUbo"
      },
      "source": [
        ""
      ],
      "execution_count": null,
      "outputs": []
    },
    {
      "cell_type": "markdown",
      "metadata": {
        "id": "kZ-Mr-g4jR4d"
      },
      "source": [
        ""
      ]
    }
  ]
}