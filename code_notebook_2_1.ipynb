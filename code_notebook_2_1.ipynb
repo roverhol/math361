{
  "nbformat": 4,
  "nbformat_minor": 0,
  "metadata": {
    "kernelspec": {
      "display_name": "R",
      "language": "R",
      "name": "ir"
    },
    "language_info": {
      "codemirror_mode": "r",
      "file_extension": ".r",
      "mimetype": "text/x-r-source",
      "name": "R",
      "pygments_lexer": "r",
      "version": "3.5.1"
    },
    "colab": {
      "name": "code_notebook_2_1.ipynb",
      "provenance": []
    }
  },
  "cells": [
    {
      "cell_type": "markdown",
      "metadata": {
        "id": "9KnSee2HHZLp"
      },
      "source": [
        "# Demo of Subsetting in R\n",
        "\n",
        "We'll look at two studies that attempted to answer causal questions, the first on sleep deprivation and the second on nearsightedness. \n",
        "\n",
        "For a causal question, we will need to compare the ''effect'' between two groups, one with the potential cause and one without.  Because we're dealing with variable ''effects'', we need to summarize over the observational units in a group, for example, by computing the average effect.\n",
        "\n",
        "One way to make a subgroup in R and then summarize it is with the ''tapply'' function in R.  "
      ]
    },
    {
      "cell_type": "markdown",
      "metadata": {
        "id": "arZPhAy8HvaC"
      },
      "source": [
        "## Example 1: Reaction time and sleep deprivation\n",
        "\n",
        "Dataset Description: 21 students took a test to determine their speed in responding to a visual stimulus.  They were then randomly assigned to be either sleep deprived or allowed to sleep without restriction.  Three days later, the students took the reaction time test again and the  improvement in reaction time was recorded."
      ]
    },
    {
      "cell_type": "markdown",
      "metadata": {
        "id": "_QCtLyDgYNLc"
      },
      "source": [
        "Step 1: load the data in R via the ''read.csv'' function. The input to this function is the name of the file containing the dataset.  The output is a data.frame in R that is store in ''sleep''. "
      ]
    },
    {
      "cell_type": "code",
      "metadata": {
        "id": "4DdzLa3XHtmq"
      },
      "source": [
        "sleep <- read.csv(\"sleep.csv\")"
      ],
      "execution_count": null,
      "outputs": []
    },
    {
      "cell_type": "markdown",
      "metadata": {
        "id": "aB9VXpKyY3m8"
      },
      "source": [
        "Step 2: check to make sure the dataset was loaded correctly in R.  There are a couple ways to do this, for example, the ''str'' function or the ''head'' function both show the first couple of values for each variable. "
      ]
    },
    {
      "cell_type": "code",
      "metadata": {
        "id": "XV_lzCNYZU7C"
      },
      "source": [
        "str(sleep)"
      ],
      "execution_count": null,
      "outputs": []
    },
    {
      "cell_type": "code",
      "metadata": {
        "id": "JBCUUnZ8JyEI"
      },
      "source": [
        "head(sleep)"
      ],
      "execution_count": null,
      "outputs": []
    },
    {
      "cell_type": "code",
      "metadata": {
        "id": "NqoK99q7KrgJ"
      },
      "source": [
        ""
      ],
      "execution_count": null,
      "outputs": []
    },
    {
      "cell_type": "code",
      "metadata": {
        "id": "yMBdto-UK-Wc"
      },
      "source": [
        ""
      ],
      "execution_count": null,
      "outputs": []
    },
    {
      "cell_type": "markdown",
      "metadata": {
        "id": "OIQtAgEaaWQh"
      },
      "source": [
        "Step 3: if the dataset wasn't read in correctly, make the appropriate corrections.  Generally, it's better to make the correction in R, not the dataset. \r\n",
        "\r\n",
        "In this example, no corrections need to be made."
      ]
    },
    {
      "cell_type": "code",
      "metadata": {
        "id": "phqz46mnaVJj"
      },
      "source": [
        ""
      ],
      "execution_count": null,
      "outputs": []
    },
    {
      "cell_type": "markdown",
      "metadata": {
        "id": "e58DqwWkbBRA"
      },
      "source": [
        "Step 4: Compute the mean improvement in reaction time by sleep group.\r\n",
        "\r\n",
        "There are many ways to do this in R.  One way is to first create a subset of the dataset for each group and then compute the mean for each subset. The code belows illustrates this method:"
      ]
    },
    {
      "cell_type": "code",
      "metadata": {
        "id": "UEY8OB8iOBVG"
      },
      "source": [
        "sleep_deprived <-subset(sleep, subset=(sleepcondition==\"deprived\"))"
      ],
      "execution_count": null,
      "outputs": []
    },
    {
      "cell_type": "code",
      "metadata": {
        "id": "kVR1AMzWdYbX"
      },
      "source": [
        "sleep_deprived"
      ],
      "execution_count": null,
      "outputs": []
    },
    {
      "cell_type": "code",
      "metadata": {
        "id": "_XRWI9p1OQaX"
      },
      "source": [
        "sleep_deprived$improvement"
      ],
      "execution_count": null,
      "outputs": []
    },
    {
      "cell_type": "code",
      "metadata": {
        "id": "4uJ0eD09d4nU"
      },
      "source": [
        "mean(sleep_deprived$improvement)"
      ],
      "execution_count": null,
      "outputs": []
    },
    {
      "cell_type": "markdown",
      "metadata": {
        "id": "O_4yi1KzeIoP"
      },
      "source": [
        "Another subset would need to be created for the group of unrestricted sleepers and the mean computed.  Try copying the code above and edit it to do this."
      ]
    },
    {
      "cell_type": "code",
      "metadata": {
        "id": "EFXNWWf3PYxn"
      },
      "source": [
        ""
      ],
      "execution_count": null,
      "outputs": []
    },
    {
      "cell_type": "code",
      "metadata": {
        "id": "DYq8Ud3QanUg"
      },
      "source": [
        ""
      ],
      "execution_count": null,
      "outputs": []
    },
    {
      "cell_type": "code",
      "metadata": {
        "id": "OewqLfviam68"
      },
      "source": [
        ""
      ],
      "execution_count": null,
      "outputs": []
    },
    {
      "cell_type": "markdown",
      "metadata": {
        "id": "wNg8186-aorm"
      },
      "source": [
        "A second method is with the ''tapply'' function.  This method looks complicated initially, but can save time once you understand the idea of multiple inputs to a function."
      ]
    },
    {
      "cell_type": "code",
      "metadata": {
        "id": "wRiDX2BFPl6V"
      },
      "source": [
        "tapply( sleepdata$improvement, sleepdata$sleepcondition,  mean)"
      ],
      "execution_count": null,
      "outputs": []
    },
    {
      "cell_type": "markdown",
      "metadata": {
        "id": "uhGDckPacPVH"
      },
      "source": [
        "Briefly comment on what you learned about sleep deprivation from this dataset."
      ]
    },
    {
      "cell_type": "markdown",
      "metadata": {
        "id": "UZIXhehBQMTj"
      },
      "source": [
        "## Example 2: Nearsightness and Nightlight Use with Infants\n",
        "\n",
        "Now let's turn to nearsightedness and nightlight use with infants...\n",
        "\n",
        "In this dataset, the variable Nightlight was coded as 1 if a nightlight was used, 0 if not.\n",
        "\n"
      ]
    },
    {
      "cell_type": "markdown",
      "metadata": {
        "id": "R-VbLdhDc1oA"
      },
      "source": [
        "Step 1: Read the dataset ''nightlight.csv'' into R using the ''read.csv'' function.  \r\n",
        "\r\n",
        "The code below gives an error.  Use example 1 to figure out and correct the error."
      ]
    },
    {
      "cell_type": "code",
      "metadata": {
        "id": "yTc0eVWQQYDM"
      },
      "source": [
        "night <- read(\"nightlight.csv\")"
      ],
      "execution_count": null,
      "outputs": []
    },
    {
      "cell_type": "markdown",
      "metadata": {
        "id": "2lhoke6odU_v"
      },
      "source": [
        "Step 2: Check that the dataset was correctly loaded in R using the ''str'' and ''head'' functions. Please refer to example 1 as needed. "
      ]
    },
    {
      "cell_type": "code",
      "metadata": {
        "id": "EdiQlJTDdTXG"
      },
      "source": [
        "str(night)"
      ],
      "execution_count": null,
      "outputs": []
    },
    {
      "cell_type": "code",
      "metadata": {
        "id": "d81JybnfTluG"
      },
      "source": [
        ""
      ],
      "execution_count": null,
      "outputs": []
    },
    {
      "cell_type": "markdown",
      "metadata": {
        "id": "7twLyiWbd1JC"
      },
      "source": [
        "Question: what is one difference between the nightlight and sleep datasets? What is one similarity?"
      ]
    },
    {
      "cell_type": "markdown",
      "metadata": {
        "id": "M373oouMelFt"
      },
      "source": [
        ""
      ]
    },
    {
      "cell_type": "markdown",
      "metadata": {
        "id": "YFMngz1MeSX1"
      },
      "source": [
        "Step 3: Correct any mistakes when the dataset was loaded in R.   \r\n",
        "\r\n",
        "In this example, one variable is NOT correctly loaded in R: the variable ''Nightlight'' has possible values of 0 or 1, so R thinks it is an ''int'', or integer variable.  In fact, the values don't really mean the numbers 0 and 1 but are just place holders for the two types of nightlight use.\r\n",
        "\r\n",
        "The code below show how to change the nightlight variable to a ''factor'' in R, with appropriate and informative labels."
      ]
    },
    {
      "cell_type": "code",
      "metadata": {
        "id": "DH90XxO9ev9y"
      },
      "source": [
        "night$Nightlight <- factor(night$Nightlight)"
      ],
      "execution_count": null,
      "outputs": []
    },
    {
      "cell_type": "code",
      "metadata": {
        "id": "rDYTJ8aGgdV-"
      },
      "source": [
        "levels(night$Nightlight)"
      ],
      "execution_count": null,
      "outputs": []
    },
    {
      "cell_type": "code",
      "metadata": {
        "id": "TIV_8GedgpGJ"
      },
      "source": [
        "levels(night$Nightlight) <- c(\"no nightlight\", \"some nightlight\")"
      ],
      "execution_count": null,
      "outputs": []
    },
    {
      "cell_type": "code",
      "metadata": {
        "id": "KD3fDJjvgn5c"
      },
      "source": [
        "levels(night$Nightlight)"
      ],
      "execution_count": null,
      "outputs": []
    },
    {
      "cell_type": "markdown",
      "metadata": {
        "id": "129bLlxBeuJU"
      },
      "source": [
        "Now let's doublecheck our dataset..."
      ]
    },
    {
      "cell_type": "code",
      "metadata": {
        "id": "Pbx0csIHg6yK"
      },
      "source": [
        "str(night)"
      ],
      "execution_count": null,
      "outputs": []
    },
    {
      "cell_type": "markdown",
      "metadata": {
        "id": "v0-PWpoyhJcw"
      },
      "source": [
        "Step 4: Summarize the outcome variable per group."
      ]
    },
    {
      "cell_type": "markdown",
      "metadata": {
        "id": "3CuTHJ09hdu_"
      },
      "source": [
        "First, let's try the shortest method of summarizing from example 1 with the ''tapply'' function:"
      ]
    },
    {
      "cell_type": "code",
      "metadata": {
        "id": "S84UxM36VamT",
        "colab": {
          "base_uri": "https://localhost:8080/",
          "height": 109
        },
        "outputId": "2e24c4f7-d3ef-4a15-b232-82bb4c0bdf86"
      },
      "source": [
        "tapply(night$Nearsighted, night$Nightlight, mean)"
      ],
      "execution_count": null,
      "outputs": [
        {
          "output_type": "stream",
          "text": [
            "Warning message in mean.default(X[[i]], ...):\n",
            "“argument is not numeric or logical: returning NA”\n",
            "Warning message in mean.default(X[[i]], ...):\n",
            "“argument is not numeric or logical: returning NA”\n"
          ],
          "name": "stderr"
        },
        {
          "output_type": "display_data",
          "data": {
            "text/plain": [
              " 0  1 \n",
              "NA NA "
            ],
            "text/latex": "\\begin{description*}\n\\item[0] <NA>\n\\item[1] <NA>\n\\end{description*}\n",
            "text/markdown": "0\n:   &lt;NA&gt;1\n:   &lt;NA&gt;\n\n",
            "text/html": [
              "<style>\n",
              ".dl-inline {width: auto; margin:0; padding: 0}\n",
              ".dl-inline>dt, .dl-inline>dd {float: none; width: auto; display: inline-block}\n",
              ".dl-inline>dt::after {content: \":\\0020\"; padding-right: .5ex}\n",
              ".dl-inline>dt:not(:first-of-type) {padding-left: .5ex}\n",
              "</style><dl class=dl-inline><dt>0</dt><dd>&lt;NA&gt;</dd><dt>1</dt><dd>&lt;NA&gt;</dd></dl>\n"
            ]
          },
          "metadata": {
            "tags": []
          }
        }
      ]
    },
    {
      "cell_type": "markdown",
      "metadata": {
        "id": "t8MtfBXyhtIL"
      },
      "source": [
        "What error did you get?  Why does it make sense?"
      ]
    },
    {
      "cell_type": "markdown",
      "metadata": {
        "id": "iH1MhNwBjP8d"
      },
      "source": [
        ""
      ]
    },
    {
      "cell_type": "markdown",
      "metadata": {
        "id": "G_8ashhliftw"
      },
      "source": [
        "The code below shows the correct way to summarize over non-numerical variables in R."
      ]
    },
    {
      "cell_type": "code",
      "metadata": {
        "id": "OLSPdsqjXDj6"
      },
      "source": [
        "table(night$Nearsighted, night$Nightlight)"
      ],
      "execution_count": null,
      "outputs": []
    },
    {
      "cell_type": "code",
      "metadata": {
        "id": "0gXI2UWiiIUi"
      },
      "source": [
        "tab <- table(night$Nearsighted, night$Nightlight)\r\n",
        "tab"
      ],
      "execution_count": null,
      "outputs": []
    },
    {
      "cell_type": "code",
      "metadata": {
        "id": "sHjRONFUiRqz"
      },
      "source": [
        "prop.table(tab)"
      ],
      "execution_count": null,
      "outputs": []
    },
    {
      "cell_type": "code",
      "metadata": {
        "id": "PzmoGVt0iVLX"
      },
      "source": [
        "prop.table(tab, margin=1)"
      ],
      "execution_count": null,
      "outputs": []
    },
    {
      "cell_type": "code",
      "metadata": {
        "id": "nf1whk8piXuC"
      },
      "source": [
        "prop.table(tab, margin=2)"
      ],
      "execution_count": null,
      "outputs": []
    },
    {
      "cell_type": "markdown",
      "metadata": {
        "id": "PY2bq29Yis1I"
      },
      "source": [
        "Three ways of going from counts to proportions are shown in the code above.  Which line do you think gives the most appropriate summary for the research question, \"does nightlight use increase nearsightnedess?\""
      ]
    },
    {
      "cell_type": "markdown",
      "metadata": {
        "id": "kZ-Mr-g4jR4d"
      },
      "source": [
        ""
      ]
    }
  ]
}