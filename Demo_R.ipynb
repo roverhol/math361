{
  "nbformat": 4,
  "nbformat_minor": 0,
  "metadata": {
    "kernelspec": {
      "display_name": "R",
      "language": "R",
      "name": "ir"
    },
    "language_info": {
      "codemirror_mode": "r",
      "file_extension": ".r",
      "mimetype": "text/x-r-source",
      "name": "R",
      "pygments_lexer": "r",
      "version": "3.5.1"
    },
    "colab": {
      "name": "Demo_IntroR.ipynb",
      "provenance": []
    }
  },
  "cells": [
    {
      "cell_type": "markdown",
      "metadata": {
        "id": "FvzfSDz2t9Nv"
      },
      "source": [
        "# Introduction to R in a notebook\n"
      ]
    },
    {
      "cell_type": "markdown",
      "metadata": {
        "id": "HxHiVT8ejJcq"
      },
      "source": [
        "This notebook contains some R code from Chapter 1.3 of the textbook. "
      ]
    },
    {
      "cell_type": "markdown",
      "metadata": {
        "id": "XMD1GXWqjVOv"
      },
      "source": [
        "On the bottom of page 14, the world population dataset from Table 1.2 is read into R."
      ]
    },
    {
      "cell_type": "code",
      "metadata": {
        "id": "aUMmT82bjrPV"
      },
      "source": [
        "world.pop <- c(2525779, 3026003, 3691173, 4449049, 5320817, 6127700,6916183)"
      ],
      "execution_count": 1,
      "outputs": []
    },
    {
      "cell_type": "code",
      "metadata": {
        "id": "EEkp8BQD72mz"
      },
      "source": [
        ""
      ],
      "execution_count": 2,
      "outputs": []
    },
    {
      "cell_type": "code",
      "metadata": {
        "id": "jxfNyBHB8CKx"
      },
      "source": [
        ""
      ],
      "execution_count": 3,
      "outputs": []
    },
    {
      "cell_type": "code",
      "metadata": {
        "id": "L3n9Dg4R8TXm"
      },
      "source": [
        ""
      ],
      "execution_count": null,
      "outputs": []
    },
    {
      "cell_type": "markdown",
      "metadata": {
        "id": "FkNG8Ae37VF2"
      },
      "source": [
        "Create a new variable called pop.millons by dividing the world.pop by 1000"
      ]
    },
    {
      "cell_type": "code",
      "metadata": {
        "id": "FYy52G937i3L"
      },
      "source": [
        ""
      ],
      "execution_count": null,
      "outputs": []
    },
    {
      "cell_type": "markdown",
      "metadata": {
        "id": "aBPMNh3h7jUL"
      },
      "source": [
        "Create a new variable, pop.rate, that calculates each population as a proportion of the population in 1950."
      ]
    },
    {
      "cell_type": "markdown",
      "metadata": {
        "id": "iBltWeYo8YxI"
      },
      "source": [
        "Create a new variable, percent.increase, that calculates the percentage increase in population over each decade."
      ]
    },
    {
      "cell_type": "code",
      "metadata": {
        "id": "i3zgBPFC8YOP"
      },
      "source": [
        ""
      ],
      "execution_count": null,
      "outputs": []
    },
    {
      "cell_type": "markdown",
      "metadata": {
        "id": "Ll4xlo7j8yqH"
      },
      "source": [
        "Describe what you learn from the resulting table."
      ]
    }
  ]
}