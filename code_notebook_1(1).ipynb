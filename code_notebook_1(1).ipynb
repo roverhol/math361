{
  "nbformat": 4,
  "nbformat_minor": 0,
  "metadata": {
    "kernelspec": {
      "display_name": "R",
      "language": "R",
      "name": "ir"
    },
    "language_info": {
      "codemirror_mode": "r",
      "file_extension": ".r",
      "mimetype": "text/x-r-source",
      "name": "R",
      "pygments_lexer": "r",
      "version": "3.5.1"
    },
    "colab": {
      "name": "code_notebook_1.ipynb",
      "provenance": [],
      "collapsed_sections": [],
      "toc_visible": true
    }
  },
  "cells": [
    {
      "cell_type": "markdown",
      "metadata": {
        "id": "FvzfSDz2t9Nv"
      },
      "source": [
        "# Code Notebook 1: CA house prices\n",
        "\n",
        "This notebook explores a sample dataset in Colab:\n",
        "\n",
        "``The authors collected information on the variables using all the block groups in California from the 1990 Census. In thier sample a block group on average includes 1425.5 individuals living in a geographically compact area.'' \n",
        "\n",
        "[Here](https://developers.google.com/machine-learning/crash-course/california-housing-data-description) is a description of the variables.\n",
        "\n",
        "Reference:\n",
        "\n",
        "Pace, R. Kelley and Ronald Barry, Sparse Spatial Autoregressions,\n",
        "Statistics and Probability Letters, 33 (1997) 291-297.\n",
        "\n",
        "For each question, either run the existing code by pressing the ``play'' button by each code chunk, or add the appropriate code then run it.  The output will appear under the code. You must ``play'' the code chunks in order as some might depend on previous computations.\n",
        "\n",
        "Use the output to answer the questions in the answer spaces.  To edit an answer space, double click it.\n",
        "\n",
        "Text answers MUST be unique to each student but groups may share code or the numerical output of the code.\n"
      ]
    },
    {
      "cell_type": "markdown",
      "metadata": {
        "id": "sh6mP6wCtlth"
      },
      "source": [
        "## Question 1 \n",
        "\n",
        "Read the description in the link above.  What is a ``block group'' in this dataset?"
      ]
    },
    {
      "cell_type": "markdown",
      "metadata": {
        "id": "_8vdStrVtwCD"
      },
      "source": [
        "## Answer 1: short answer.\n",
        "\n",
        "It is a geographic area that was surveyed consisting of 1,425.5 individuals."
      ]
    },
    {
      "cell_type": "markdown",
      "metadata": {
        "id": "KMW1zFJgqa7S"
      },
      "source": [
        "## Question 2 \n",
        "Load the data into R and check the dimensions of the data. How many observations are there? How many variables? "
      ]
    },
    {
      "cell_type": "code",
      "metadata": {
        "id": "alvLsCBRwH5k"
      },
      "source": [
        "housing <- read.csv(\"/content/sample_data/california_housing_train.csv\")"
      ],
      "execution_count": null,
      "outputs": []
    },
    {
      "cell_type": "code",
      "metadata": {
        "id": "9vPvbD4y24hX",
        "colab": {
          "base_uri": "https://localhost:8080/",
          "height": 187
        },
        "outputId": "a1336b7f-2bc9-4c57-ae17-c6e1170097cf"
      },
      "source": [
        "str(housing)"
      ],
      "execution_count": null,
      "outputs": [
        {
          "output_type": "stream",
          "text": [
            "'data.frame':\t17000 obs. of  9 variables:\n",
            " $ longitude         : num  -114 -114 -115 -115 -115 ...\n",
            " $ latitude          : num  34.2 34.4 33.7 33.6 33.6 ...\n",
            " $ housing_median_age: num  15 19 17 14 20 29 25 41 34 46 ...\n",
            " $ total_rooms       : num  5612 7650 720 1501 1454 ...\n",
            " $ total_bedrooms    : num  1283 1901 174 337 326 ...\n",
            " $ population        : num  1015 1129 333 515 624 ...\n",
            " $ households        : num  472 463 117 226 262 ...\n",
            " $ median_income     : num  1.49 1.82 1.65 3.19 1.93 ...\n",
            " $ median_house_value: num  66900 80100 85700 73400 65500 74000 82400 48500 58400 48100 ...\n"
          ],
          "name": "stdout"
        }
      ]
    },
    {
      "cell_type": "code",
      "metadata": {
        "id": "9Iq-R0ALqnhh",
        "colab": {
          "base_uri": "https://localhost:8080/",
          "height": 34
        },
        "outputId": "a4065867-5d5d-40dd-cc39-e804445f5289"
      },
      "source": [
        "dim(housing)"
      ],
      "execution_count": null,
      "outputs": [
        {
          "output_type": "display_data",
          "data": {
            "text/plain": [
              "[1] 17000     9"
            ],
            "text/latex": "\\begin{enumerate*}\n\\item 17000\n\\item 9\n\\end{enumerate*}\n",
            "text/markdown": "1. 17000\n2. 9\n\n\n",
            "text/html": [
              "<style>\n",
              ".list-inline {list-style: none; margin:0; padding: 0}\n",
              ".list-inline>li {display: inline-block}\n",
              ".list-inline>li:not(:last-child)::after {content: \"\\00b7\"; padding: 0 .5ex}\n",
              "</style>\n",
              "<ol class=list-inline><li>17000</li><li>9</li></ol>\n"
            ]
          },
          "metadata": {
            "tags": []
          }
        }
      ]
    },
    {
      "cell_type": "markdown",
      "metadata": {
        "id": "D-RiWDFO-Sg8"
      },
      "source": [
        "## Answer 2: fill in four blanks.\n",
        "\n",
        "There are 17000 rows and 9 columns in the housing dataset. This means there are 17000 observations of block groups from the 1990 Census and 9 pieces of information about each block group."
      ]
    },
    {
      "cell_type": "markdown",
      "metadata": {
        "id": "KBnk7VBNum7N"
      },
      "source": [
        "## Question 3 (1 point)\n",
        "\n",
        "Obtain a summary of the variable named ``population'' in the housing dataset.  What is the largest number of people in any block group?"
      ]
    },
    {
      "cell_type": "code",
      "metadata": {
        "id": "CpbmBStBvQ1e",
        "colab": {
          "base_uri": "https://localhost:8080/",
          "height": 51
        },
        "outputId": "dd68680a-c41b-4e4f-de2a-fef6fb75c61d"
      },
      "source": [
        "summary(housing$population)"
      ],
      "execution_count": null,
      "outputs": [
        {
          "output_type": "display_data",
          "data": {
            "text/plain": [
              "   Min. 1st Qu.  Median    Mean 3rd Qu.    Max. \n",
              "      3     790    1167    1430    1721   35682 "
            ]
          },
          "metadata": {
            "tags": []
          }
        }
      ]
    },
    {
      "cell_type": "markdown",
      "metadata": {
        "id": "BhZjh08xvd24"
      },
      "source": [
        "## Answer 3: fill in one blank.\n",
        "\n",
        "The largest block size is 35,682"
      ]
    },
    {
      "cell_type": "markdown",
      "metadata": {
        "id": "Nh5eMk00vyP0"
      },
      "source": [
        "## Question 4 (1 point)\n",
        "\n",
        "Obtain a summary of the variable named ``median_income''.  What do you think the units of this variable are?  Check the description in the link to get the right answer.  Write an one sentence description of the minimum value of this variable."
      ]
    },
    {
      "cell_type": "code",
      "metadata": {
        "id": "e253Obu7wmld",
        "colab": {
          "base_uri": "https://localhost:8080/",
          "height": 51
        },
        "outputId": "6c984e83-1e5a-4703-aa2c-f95c363cf4ef"
      },
      "source": [
        "summary(housing$median_income)"
      ],
      "execution_count": null,
      "outputs": [
        {
          "output_type": "display_data",
          "data": {
            "text/plain": [
              "   Min. 1st Qu.  Median    Mean 3rd Qu.    Max. \n",
              " 0.4999  2.5664  3.5446  3.8836  4.7670 15.0001 "
            ]
          },
          "metadata": {
            "tags": []
          }
        }
      ]
    },
    {
      "cell_type": "markdown",
      "metadata": {
        "id": "Q-oRN75pwh9f"
      },
      "source": [
        "## Answer 4: short answer\n",
        "\n",
        "The minimum value of \"median_income\" would be 0.4999 tens of thousands of US dollars."
      ]
    },
    {
      "cell_type": "markdown",
      "metadata": {
        "id": "4aBgKPSM1_wB"
      },
      "source": [
        "## Question 5 (2 points)\n",
        "Calculate the ratio of bedrooms to households for each block: call this variable beds.per.house. Make a summary of this variable and use it to complete the sentence below.  "
      ]
    },
    {
      "cell_type": "code",
      "metadata": {
        "id": "NW_4HZ_X7fo_",
        "colab": {
          "base_uri": "https://localhost:8080/",
          "height": 51
        },
        "outputId": "0c45c577-2aeb-48ec-8405-af423f725245"
      },
      "source": [
        "beds.per.house <- housing$total_bedrooms/housing$households\n",
        "\n",
        "summary(beds.per.house)"
      ],
      "execution_count": null,
      "outputs": [
        {
          "output_type": "display_data",
          "data": {
            "text/plain": [
              "   Min. 1st Qu.  Median    Mean 3rd Qu.    Max. \n",
              " 0.3333  1.0062  1.0488  1.0973  1.1000 34.0667 "
            ]
          },
          "metadata": {
            "tags": []
          }
        }
      ]
    },
    {
      "cell_type": "markdown",
      "metadata": {
        "id": "sj6BhMJH_FmE"
      },
      "source": [
        "## Answer 5: Complete the sentence.\n",
        "\n",
        "The minimum ratio of total bedrooms in a block group to total households is 0.3333.  This number is less than 1, which means there would be some households that have 0 bedrooms."
      ]
    },
    {
      "cell_type": "markdown",
      "metadata": {
        "id": "xwSw6XdP8sPV"
      },
      "source": [
        "## Question 6 (2 points)\n",
        "\n",
        "Calculate the total number of rooms that are not bedrooms for each block: store this as a variable called total_nonbedrooms.  Make a summary of this variable."
      ]
    },
    {
      "cell_type": "code",
      "metadata": {
        "id": "9L2n986Z8dC9",
        "colab": {
          "base_uri": "https://localhost:8080/",
          "height": 51
        },
        "outputId": "c5418bff-9523-44e1-f94c-611109992c07"
      },
      "source": [
        "total_nonbedrooms <- (housing$total_rooms - housing$total_bedrooms) \n",
        "summary(total_nonbedrooms)"
      ],
      "execution_count": null,
      "outputs": [
        {
          "output_type": "display_data",
          "data": {
            "text/plain": [
              "   Min. 1st Qu.  Median    Mean 3rd Qu.    Max. \n",
              "      0    1135    1682    2104    2509   32466 "
            ]
          },
          "metadata": {
            "tags": []
          }
        }
      ]
    },
    {
      "cell_type": "markdown",
      "metadata": {
        "id": "u_Zj7a8O9byq"
      },
      "source": [
        "## Question 7 (1 point) \n",
        "\n",
        "Create a new variable of your choice from the variables in the dataset.  Compute the summary of this variable."
      ]
    },
    {
      "cell_type": "code",
      "metadata": {
        "id": "Ta_E7-949HHB",
        "colab": {
          "base_uri": "https://localhost:8080/",
          "height": 51
        },
        "outputId": "323253cc-dc60-4c50-f15b-c57c4f665db9"
      },
      "source": [
        "pop.household <- (housing$population/housing$household)\n",
        "summary(pop.household)"
      ],
      "execution_count": null,
      "outputs": [
        {
          "output_type": "display_data",
          "data": {
            "text/plain": [
              "    Min.  1st Qu.   Median     Mean  3rd Qu.     Max. \n",
              "  0.6923   2.4326   2.8169   2.9763   3.2794 502.4615 "
            ]
          },
          "metadata": {
            "tags": []
          }
        }
      ]
    }
  ]
}